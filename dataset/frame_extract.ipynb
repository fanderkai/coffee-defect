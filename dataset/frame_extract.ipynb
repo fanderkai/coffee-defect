{
 "cells": [
  {
   "cell_type": "code",
   "execution_count": 1,
   "id": "5c5c07d8",
   "metadata": {},
   "outputs": [],
   "source": [
    "import cv2\n",
    "import os\n",
    "import numpy as np\n",
    "import regex as re"
   ]
  },
  {
   "cell_type": "code",
   "execution_count": 2,
   "id": "c24df9ed",
   "metadata": {},
   "outputs": [],
   "source": [
    "def extract_frames(video_path, output_folder, filename, num_frames):\n",
    "    \n",
    "    if not os.path.exists(video_path):\n",
    "        raise FileNotFoundError(f\"File not found: {video_path}\")\n",
    "\n",
    "    os.makedirs(output_folder, exist_ok=True)\n",
    "\n",
    "    cap = cv2.VideoCapture(video_path)\n",
    "    total_frames = int(cap.get(cv2.CAP_PROP_FRAME_COUNT))\n",
    "    print(f\"Total frame: {total_frames}\")\n",
    "\n",
    "    frame_indices = np.linspace(0, total_frames - 1, num=num_frames, dtype=int)\n",
    "\n",
    "    saved = 0\n",
    "    for i, frame_idx in enumerate(frame_indices):\n",
    "        cap.set(cv2.CAP_PROP_POS_FRAMES, frame_idx)\n",
    "        ret, frame = cap.read()\n",
    "        \n",
    "        if not ret:\n",
    "            print(f\"Failed to read frame {frame_idx}\")\n",
    "            continue\n",
    "\n",
    "        output_path = os.path.join(output_folder, f\"{filename}_{frame_idx:03}.jpg\")\n",
    "        cv2.imwrite(output_path, frame)\n",
    "        saved += 1\n",
    "\n",
    "    cap.release()\n",
    "    print(f\"Saved {saved} frames in {output_folder}\")"
   ]
  },
  {
   "cell_type": "code",
   "execution_count": 14,
   "id": "9dd8c8d6",
   "metadata": {},
   "outputs": [
    {
     "name": "stdout",
     "output_type": "stream",
     "text": [
      "Total frame: 150\n",
      "Saved 20 frames in ./15cm/0,34/1503402\n"
     ]
    }
   ],
   "source": [
    "batch = '02'\n",
    "velocity = '0,34'\n",
    "distance = '15cm'\n",
    "\n",
    "filename = re.sub(r'\\D', '', distance + velocity + batch)\n",
    "video_path = f'./{distance}/{velocity}/{filename}.mp4'\n",
    "output_folder = f'./{distance}/{velocity}/{filename}'\n",
    "\n",
    "num_frames = 20\n",
    "extract_frames(video_path, output_folder, filename, num_frames)"
   ]
  },
  {
   "cell_type": "code",
   "execution_count": null,
   "id": "dd72bc11",
   "metadata": {},
   "outputs": [],
   "source": []
  }
 ],
 "metadata": {
  "kernelspec": {
   "display_name": "Python 3",
   "language": "python",
   "name": "python3"
  },
  "language_info": {
   "codemirror_mode": {
    "name": "ipython",
    "version": 3
   },
   "file_extension": ".py",
   "mimetype": "text/x-python",
   "name": "python",
   "nbconvert_exporter": "python",
   "pygments_lexer": "ipython3",
   "version": "3.13.1"
  }
 },
 "nbformat": 4,
 "nbformat_minor": 5
}
